{
 "cells": [
  {
   "cell_type": "markdown",
   "id": "239d8aae",
   "metadata": {},
   "source": [
    "# HW03 — Python Fundamentals (Fixed Imports)\n",
    "This version loads utilities from the `hw03_utils` package, with a fallback shim if not installed."
   ]
  },
  {
   "cell_type": "code",
   "execution_count": null,
   "id": "3ca9c817",
   "metadata": {},
   "outputs": [],
   "source": [
    "\n",
    "from pathlib import Path\n",
    "import sys, time\n",
    "import numpy as np\n",
    "import pandas as pd\n",
    "import matplotlib.pyplot as plt\n",
    "\n",
    "PROJECT_ROOT = Path.cwd().parent if (Path.cwd().name == \"notebooks\") else Path.cwd()\n",
    "DATA_PATH = PROJECT_ROOT / \"data\" / \"starter_data.csv\"\n",
    "PROCESSED_DIR = PROJECT_ROOT / \"data\" / \"processed\"\n",
    "FIGS_DIR = PROJECT_ROOT / \"figs\"\n",
    "SRC = PROJECT_ROOT / \"src\"\n",
    "\n",
    "# Preferred: package import (after `pip install -e .`)\n",
    "try:\n",
    "    from hw03_utils import (\n",
    "        time_loop_vs_vectorized,\n",
    "        get_summary_stats,\n",
    "        groupby_aggregate,\n",
    "        basic_histogram,\n",
    "        save_plot,\n",
    "    )\n",
    "except ImportError:\n",
    "    # Fallback: make src importable and use back-compat utils shim\n",
    "    if SRC.exists():\n",
    "        sys.path.append(str(SRC))\n",
    "    from utils import (\n",
    "        time_loop_vs_vectorized,\n",
    "        get_summary_stats,\n",
    "        groupby_aggregate,\n",
    "        basic_histogram,\n",
    "        save_plot,\n",
    "    )\n",
    "\n",
    "PROCESSED_DIR.mkdir(parents=True, exist_ok=True)\n",
    "FIGS_DIR.mkdir(parents=True, exist_ok=True)\n",
    "print(f\"Project root: {PROJECT_ROOT}\\nData path: {DATA_PATH}\")\n"
   ]
  },
  {
   "cell_type": "markdown",
   "id": "cd44ff2b",
   "metadata": {},
   "source": [
    "## 1) NumPy Operations — elementwise ops and loop vs vectorized timing"
   ]
  },
  {
   "cell_type": "code",
   "execution_count": null,
   "id": "5ed17dbe",
   "metadata": {},
   "outputs": [],
   "source": [
    "bench = time_loop_vs_vectorized(n=300_000); bench"
   ]
  },
  {
   "cell_type": "markdown",
   "id": "bad41d9f",
   "metadata": {},
   "source": [
    "## 2) Dataset Loading — `pandas` `.info()` and `.head()`"
   ]
  },
  {
   "cell_type": "code",
   "execution_count": null,
   "id": "093e960c",
   "metadata": {},
   "outputs": [],
   "source": [
    "\n",
    "if not DATA_PATH.exists():\n",
    "    print(\"WARNING: data/starter_data.csv not found. Using the bundled sample.\")\n",
    "    DATA_PATH = PROJECT_ROOT / \"data\" / \"starter_data_SAMPLE.csv\"\n",
    "\n",
    "df = pd.read_csv(DATA_PATH)\n",
    "display(df.info())\n",
    "df.head()\n"
   ]
  },
  {
   "cell_type": "markdown",
   "id": "5c615667",
   "metadata": {},
   "source": [
    "## 3) Summary Statistics — numeric `.describe()`"
   ]
  },
  {
   "cell_type": "code",
   "execution_count": null,
   "id": "03f7442f",
   "metadata": {},
   "outputs": [],
   "source": [
    "summary = get_summary_stats(df); summary.head(10)"
   ]
  },
  {
   "cell_type": "markdown",
   "id": "8d3c2281",
   "metadata": {},
   "source": [
    "## 4) Groupby aggregation — pick a categorical column or auto-create one"
   ]
  },
  {
   "cell_type": "code",
   "execution_count": null,
   "id": "97c3d22b",
   "metadata": {},
   "outputs": [],
   "source": [
    "grouped = groupby_aggregate(df); grouped.head(10)"
   ]
  },
  {
   "cell_type": "markdown",
   "id": "b28a2aee",
   "metadata": {},
   "source": [
    "## 5) Save outputs — CSV and JSON"
   ]
  },
  {
   "cell_type": "code",
   "execution_count": null,
   "id": "0ce6ed0b",
   "metadata": {},
   "outputs": [],
   "source": [
    "\n",
    "out_csv = PROCESSED_DIR / \"summary.csv\"\n",
    "summary.to_csv(out_csv, index=False)\n",
    "print(f\"Saved: {out_csv}\")\n",
    "out_json = PROCESSED_DIR / \"summary.json\"\n",
    "summary.to_json(out_json, orient=\"records\", indent=2)\n",
    "print(f\"Saved: {out_json}\")\n"
   ]
  },
  {
   "cell_type": "markdown",
   "id": "79a954aa",
   "metadata": {},
   "source": [
    "## Bonus) Basic plot — histogram of first numeric column"
   ]
  },
  {
   "cell_type": "code",
   "execution_count": null,
   "id": "05cf40e0",
   "metadata": {},
   "outputs": [],
   "source": [
    "\n",
    "num_cols = df.select_dtypes(include=\"number\").columns.tolist()\n",
    "if num_cols:\n",
    "    hist_path = FIGS_DIR / \"basic_hist.png\"\n",
    "    saved = basic_histogram(df[num_cols[0]], title=f\"Histogram of {num_cols[0]}\", save_path=hist_path)\n",
    "    print(f\"Saved plot: {saved}\")\n",
    "else:\n",
    "    print(\"No numeric columns found for plotting.\")\n"
   ]
  }
 ],
 "metadata": {},
 "nbformat": 4,
 "nbformat_minor": 5
}
