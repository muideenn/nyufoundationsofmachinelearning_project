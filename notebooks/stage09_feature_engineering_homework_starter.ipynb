{
 "cells": [
  {
   "cell_type": "markdown",
   "metadata": {},
   "source": [
    "# Stage 09 \u2014 Feature Engineering: Homework Starter\n",
    "\n",
    "Use this notebook to prototype engineered features and validate their impact on EDA and downstream models.\n",
    "\n",
    "**Checklist**:\n",
    "- [ ] Load your dataset\n",
    "- [ ] Create engineered features (ratios, flags, interactions, logs)\n",
    "- [ ] Inspect distributions & correlations\n",
    "- [ ] Document assumptions and risks\n"
   ]
  },
  {
   "cell_type": "code",
   "execution_count": null,
   "metadata": {},
   "outputs": [],
   "source": [
    "# Setup\n",
    "import sys\n",
    "from pathlib import Path\n",
    "import pandas as pd\n",
    "import numpy as np\n",
    "\n",
    "# Make src importable\n",
    "PROJECT_ROOT = Path.cwd().parents[0]  # stage09_feature-engineering/\n",
    "SRC_PATH = PROJECT_ROOT / \"src\"\n",
    "if str(SRC_PATH) not in sys.path:\n",
    "    sys.path.append(str(SRC_PATH))\n",
    "\n",
    "from utils import (\n",
    "    create_income_to_balance_ratio,\n",
    "    create_transactions_per_year,\n",
    "    flag_recent_activity,\n",
    ")"
   ]
  },
  {
   "cell_type": "markdown",
   "metadata": {},
   "source": [
    "## 1) Load or Create Data\n",
    "Replace the synthetic example with your actual dataset (e.g., `data/raw/customers.csv`)."
   ]
  },
  {
   "cell_type": "code",
   "execution_count": null,
   "metadata": {},
   "outputs": [],
   "source": [
    "# Synthetic example \u2014 replace with your real data\n",
    "n = 1_000\n",
    "rng = np.random.default_rng(42)\n",
    "df = pd.DataFrame({\n",
    "    'customer_id': np.arange(1, n+1),\n",
    "    'income': rng.normal(60000, 15000, n).clip(1000, None).astype(int),\n",
    "    'account_balance': rng.normal(8000, 3000, n).clip(0, None).astype(int),\n",
    "    'num_transactions': rng.poisson(30, n),\n",
    "    'tenure_years': rng.uniform(0, 10, n),\n",
    "    'last_login_days_ago': rng.integers(0, 180, n)\n",
    "})\n",
    "df.head()"
   ]
  },
  {
   "cell_type": "markdown",
   "metadata": {},
   "source": [
    "## 2) Engineer Features\n",
    "These mirror the utility functions in `src/utils.py`."
   ]
  },
  {
   "cell_type": "code",
   "execution_count": null,
   "metadata": {},
   "outputs": [],
   "source": [
    "df = create_income_to_balance_ratio(df)\n",
    "df = create_transactions_per_year(df)\n",
    "df = flag_recent_activity(df)\n",
    "df.head()"
   ]
  },
  {
   "cell_type": "markdown",
   "metadata": {},
   "source": [
    "## 3) Quick EDA\n",
    "Check distributions and simple correlations to see if engineered features are informative."
   ]
  },
  {
   "cell_type": "code",
   "execution_count": null,
   "metadata": {},
   "outputs": [],
   "source": [
    "desc = df[['income','account_balance','num_transactions','tenure_years',\n",
    "           'income_to_balance_ratio','transactions_per_year','is_active']].describe()\n",
    "desc"
   ]
  },
  {
   "cell_type": "code",
   "execution_count": null,
   "metadata": {},
   "outputs": [],
   "source": [
    "corr = df[['income','account_balance','num_transactions','tenure_years',\n",
    "           'income_to_balance_ratio','transactions_per_year','is_active']].corr(numeric_only=True)\n",
    "corr"
   ]
  },
  {
   "cell_type": "markdown",
   "metadata": {},
   "source": [
    "## 4) \"So What?\" \u2014 Notes\n",
    "Use this section to connect features to hypotheses.\n",
    "\n",
    "- **income_to_balance_ratio** may help separate customers with high earnings but low balances.\n",
    "- **transactions_per_year** normalizes raw counts by tenure, enabling fair comparisons across customers with different lifetimes.\n",
    "- **is_active** captures current engagement; useful for churn\u2011like targets or cohorting users by recent behavior.\n",
    "\n",
    "**Assumptions & Risks**: Describe data quality assumptions (e.g., \"tenure_years > 0\"), potential leakage, and what happens if they don't hold."
   ]
  }
 ],
 "metadata": {
  "kernelspec": {
   "display_name": "Python 3",
   "language": "python",
   "name": "python3"
  },
  "language_info": {
   "name": "python",
   "pygments_lexer": "ipython3"
  }
 },
 "nbformat": 4,
 "nbformat_minor": 5
}