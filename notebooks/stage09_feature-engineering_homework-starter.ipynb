{
 "cells": [
  {
   "cell_type": "markdown",
   "id": "b2628b17",
   "metadata": {},
   "source": [
    "# Stage 09: Feature Engineering Homework Starter\n",
    "\n",
    "This notebook demonstrates the use of custom utility functions from `src/utils.py`."
   ]
  },
  {
   "cell_type": "code",
   "execution_count": null,
   "id": "0b569dfa",
   "metadata": {},
   "outputs": [],
   "source": [
    "import sys\n",
    "from pathlib import Path\n",
    "import pandas as pd\n",
    "\n",
    "# Add src/ folder to path\n",
    "PROJECT_ROOT = Path.cwd().parent if Path.cwd().name == 'notebooks' else Path.cwd()\n",
    "sys.path.append(str(PROJECT_ROOT / 'src'))\n",
    "\n",
    "from utils import create_income_to_balance_ratio, create_transactions_per_year, flag_recent_activity"
   ]
  },
  {
   "cell_type": "markdown",
   "id": "5173a094",
   "metadata": {},
   "source": [
    "## Create Sample Data"
   ]
  },
  {
   "cell_type": "code",
   "execution_count": null,
   "id": "8497520a",
   "metadata": {},
   "outputs": [],
   "source": [
    "data = {\n",
    "    'income': [50000, 60000, 45000],\n",
    "    'account_balance': [10000, 20000, 0],\n",
    "    'num_transactions': [120, 300, 45],\n",
    "    'tenure_years': [5, 10, 2],\n",
    "    'last_login_days_ago': [5, 45, 20]\n",
    "}\n",
    "df = pd.DataFrame(data)\n",
    "df"
   ]
  },
  {
   "cell_type": "markdown",
   "id": "0d047ed1",
   "metadata": {},
   "source": [
    "## Apply Feature Engineering Functions"
   ]
  },
  {
   "cell_type": "code",
   "execution_count": null,
   "id": "c1589f51",
   "metadata": {},
   "outputs": [],
   "source": [
    "df = create_income_to_balance_ratio(df)\n",
    "df = create_transactions_per_year(df)\n",
    "df = flag_recent_activity(df)\n",
    "df"
   ]
  }
 ],
 "metadata": {},
 "nbformat": 4,
 "nbformat_minor": 5
}
