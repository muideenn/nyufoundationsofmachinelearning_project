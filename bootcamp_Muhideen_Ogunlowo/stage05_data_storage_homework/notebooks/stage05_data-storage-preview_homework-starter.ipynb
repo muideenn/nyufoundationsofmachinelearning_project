{
  "cells": [
    {
      "cell_type": "markdown",
      "metadata": {},
      "source": [
        "# Stage 05 \u2014 Data Storage Homework Notebook\n",
        "\n",
        "This notebook saves/loads a sample DataFrame to CSV and Parquet using environment-driven paths, validates reloads, and refactors I/O into utilities."
      ]
    },
    {
      "cell_type": "code",
      "execution_count": null,
      "metadata": {},
      "outputs": [],
      "source": [
        "# Env + setup\n",
        "from pathlib import Path\n",
        "import os\n",
        "import pandas as pd\n",
        "\n",
        "# Load .env if present\n",
        "try:\n",
        "    from dotenv import load_dotenv\n",
        "    load_dotenv()\n",
        "except Exception:\n",
        "    pass\n",
        "\n",
        "# Environment-driven directories\n",
        "DATA_DIR_RAW = Path(os.getenv(\"DATA_DIR_RAW\", \"data/raw\"))\n",
        "DATA_DIR_PROCESSED = Path(os.getenv(\"DATA_DIR_PROCESSED\", \"data/processed\"))\n",
        "\n",
        "DATA_DIR_RAW.mkdir(parents=True, exist_ok=True)\n",
        "DATA_DIR_PROCESSED.mkdir(parents=True, exist_ok=True)\n",
        "\n",
        "DATA_DIR_RAW, DATA_DIR_PROCESSED"
      ]
    },
    {
      "cell_type": "code",
      "execution_count": null,
      "metadata": {},
      "outputs": [],
      "source": [
        "# Sample DataFrame \n",
        "import numpy as np\n",
        "import time\n",
        "\n",
        "df = pd.DataFrame({\n",
        "    \"id\": np.arange(1, 6, dtype=np.int64),\n",
        "    \"city\": [\"NYC\", \"Boston\", \"Miami\", \"Houston\", \"LA\"],\n",
        "    \"value\": np.array([10.5, 11.0, 9.75, 13.2, 12.6], dtype=np.float64),\n",
        "})\n",
        "\n",
        "timestamp = time.strftime(\"%Y%m%d-%H%M\")\n",
        "csv_path = DATA_DIR_RAW / f\"sample_{timestamp}.csv\"\n",
        "pq_path = DATA_DIR_PROCESSED / f\"sample_{timestamp}.parquet\"\n",
        "df.head()"
      ]
    },
    {
      "cell_type": "code",
      "execution_count": null,
      "metadata": {},
      "outputs": [],
      "source": [
        "# 1) Save in two formats\n",
        "df.to_csv(csv_path, index=False)\n",
        "# Parquet requires pyarrow\n",
        "try:\n",
        "    import pyarrow  # noqa: F401\n",
        "    df.to_parquet(pq_path, index=False)\n",
        "except Exception as e:\n",
        "    print(\"Parquet write skipped \u2014 install pyarrow to enable Parquet writes. Error:\", e)\n",
        "\n",
        "csv_path, pq_path"
      ]
    },
    {
      "cell_type": "code",
      "execution_count": null,
      "metadata": {},
      "outputs": [],
      "source": [
        "# 2) Reload and Validate\n",
        "# Reload CSV (always available)\n",
        "csv_df = pd.read_csv(csv_path)\n",
        "\n",
        "# Reload Parquet if available\n",
        "try:\n",
        "    import pyarrow  # noqa: F401\n",
        "    pq_df = pd.read_parquet(pq_path)\n",
        "except Exception:\n",
        "    pq_df = None\n",
        "\n",
        "# Define critical dtypes we expect\n",
        "critical_dtypes = {\n",
        "    \"id\": \"int64\",\n",
        "    \"city\": \"object\",\n",
        "    \"value\": \"float64\",\n",
        "}\n",
        "\n",
        "def validate_df(original: pd.DataFrame, reloaded: pd.DataFrame, critical_dtypes: dict) -> dict:\n",
        "    shape_match = original.shape == reloaded.shape\n",
        "    dtype_issues = {}\n",
        "    for col, expected in critical_dtypes.items():\n",
        "        if col not in reloaded.columns:\n",
        "            dtype_issues[col] = f\"missing (expected {expected})\"\n",
        "        else:\n",
        "            got = str(reloaded[col].dtype)\n",
        "            if got != expected:\n",
        "                dtype_issues[col] = f\"{got} (expected {expected})\"\n",
        "    passed = shape_match and (len(dtype_issues) == 0)\n",
        "    return {\"shape_match\": shape_match, \"dtype_issues\": dtype_issues, \"passed\": passed}\n",
        "\n",
        "csv_validation = validate_df(df, csv_df, critical_dtypes)\n",
        "pq_validation = validate_df(df, pq_df, critical_dtypes) if pq_df is not None else {\"skipped\": True}\n",
        "\n",
        "csv_validation, pq_validation"
      ]
    },
    {
      "cell_type": "code",
      "execution_count": null,
      "metadata": {},
      "outputs": [],
      "source": [
        "# 3) Refactor to utilities\n",
        "from pathlib import Path\n",
        "import importlib.util\n",
        "\n",
        "# Import our local utilities\n",
        "import sys\n",
        "PROJECT_ROOT = Path.cwd().parent if (Path.cwd().name == \"notebooks\") else Path.cwd()\n",
        "sys.path.append(str(PROJECT_ROOT / \"src\"))\n",
        "from utils import write_df, read_df, validate_df as validate_utils\n",
        "\n",
        "csv2_path = DATA_DIR_RAW / f\"sample_util_{timestamp}.csv\"\n",
        "pq2_path = DATA_DIR_PROCESSED / f\"sample_util_{timestamp}.parquet\"\n",
        "\n",
        "# Write using utilities\n",
        "_ = write_df(df, csv2_path)\n",
        "try:\n",
        "    _ = write_df(df, pq2_path)\n",
        "except RuntimeError as e:\n",
        "    print(e)\n",
        "\n",
        "# Read using utilities\n",
        "csv2_df = read_df(csv2_path)\n",
        "try:\n",
        "    pq2_df = read_df(pq2_path)\n",
        "except Exception:\n",
        "    pq2_df = None\n",
        "\n",
        "# Validate\n",
        "csv2_validation = validate_utils(df, csv2_df, critical_dtypes)\n",
        "pq2_validation = validate_utils(df, pq2_df, critical_dtypes) if pq2_df is not None else {\"skipped\": True}\n",
        "\n",
        "csv2_validation, pq2_validation"
      ]
    },
    {
      "cell_type": "code",
      "execution_count": null,
      "metadata": {},
      "outputs": [],
      "source": [
        "# 4) Clear output summary\n",
        "summary = {\n",
        "    \"csv_saved\": str(csv_path),\n",
        "    \"parquet_saved\": str(pq_path) if (pq_df is not None) else \"skipped\",\n",
        "    \"csv_validation\": csv_validation,\n",
        "    \"parquet_validation\": pq_validation,\n",
        "    \"csv2_saved\": str(csv2_path),\n",
        "    \"parquet2_saved\": str(pq2_path) if (pq2_df is not None) else \"skipped\",\n",
        "    \"csv2_validation\": csv2_validation,\n",
        "    \"parquet2_validation\": pq2_validation,\n",
        "}\n",
        "summary"
      ]
    }
  ],
  "metadata": {
    "kernelspec": {
      "display_name": "Python 3",
      "language": "python",
      "name": "python3"
    },
    "language_info": {
      "name": "python",
      "version": "3.x"
    }
  },
  "nbformat": 4,
  "nbformat_minor": 5
}
