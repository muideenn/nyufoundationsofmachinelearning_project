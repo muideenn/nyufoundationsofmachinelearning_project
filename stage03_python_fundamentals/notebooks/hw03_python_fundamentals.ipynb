{
 "cells": [
  {
   "cell_type": "markdown",
   "id": "239d8aae",
   "metadata": {},
   "source": [
    "# HW03 — Python Fundamentals (Fixed Imports)\n",
    "This version loads utilities from the `hw03_utils` package, with a fallback shim if not installed."
   ]
  },
  {
   "cell_type": "code",
   "execution_count": null,
   "id": "3ca9c817",
   "metadata": {},
   "outputs": [
    {
     "name": "stdout",
     "output_type": "stream",
     "text": [
      "Project root: /Users/aogunlowo19/Downloads/stage03_python_fundamentals\n",
      "Data path: /Users/aogunlowo19/Downloads/stage03_python_fundamentals/data/starter_data.csv\n"
     ]
    }
   ],
   "source": [
    "\n",
    "from pathlib import Path\n",
    "import sys, time\n",
    "import numpy as np\n",
    "import pandas as pd\n",
    "import matplotlib.pyplot as plt\n",
    "\n",
    "PROJECT_ROOT = Path.cwd().parent if (Path.cwd().name == \"notebooks\") else Path.cwd()\n",
    "DATA_PATH = PROJECT_ROOT / \"data\" / \"starter_data.csv\"\n",
    "PROCESSED_DIR = PROJECT_ROOT / \"data\" / \"processed\"\n",
    "FIGS_DIR = PROJECT_ROOT / \"figs\"\n",
    "SRC = PROJECT_ROOT / \"src\"\n",
    "sys.path.append(str(SRC))\n",
    "\n",
    "# Preferred: package import (after `pip install -e .`)\n",
    "try:\n",
    "    from hw03_utils import (\n",
    "        time_loop_vs_vectorized,\n",
    "        get_summary_stats,\n",
    "        groupby_aggregate,\n",
    "        basic_histogram,\n",
    "        save_plot,\n",
    "    )\n",
    "except ImportError:\n",
    "    # Fallback: make src importable and use back-compat utils shim\n",
    "    if SRC.exists():\n",
    "        sys.path.append(str(SRC))\n",
    "    from utils import (\n",
    "        time_loop_vs_vectorized,\n",
    "        get_summary_stats,\n",
    "        groupby_aggregate,\n",
    "        basic_histogram,\n",
    "        save_plot,\n",
    "    )\n",
    "\n",
    "PROCESSED_DIR.mkdir(parents=True, exist_ok=True)\n",
    "FIGS_DIR.mkdir(parents=True, exist_ok=True)\n",
    "print(f\"Project root: {PROJECT_ROOT}\\nData path: {DATA_PATH}\")\n"
   ]
  },
  {
   "cell_type": "markdown",
   "id": "cd44ff2b",
   "metadata": {},
   "source": [
    "## 1) NumPy Operations — elementwise ops and loop vs vectorized timing"
   ]
  },
  {
   "cell_type": "code",
   "execution_count": 2,
   "id": "5ed17dbe",
   "metadata": {},
   "outputs": [
    {
     "data": {
      "text/plain": [
       "{'n': 300000,\n",
       " 'loop_seconds': 0.044578083000033075,\n",
       " 'vectorized_seconds': 0.00027266699999017874,\n",
       " 'speedup': 163.4891020975723}"
      ]
     },
     "execution_count": 2,
     "metadata": {},
     "output_type": "execute_result"
    }
   ],
   "source": [
    "bench = time_loop_vs_vectorized(n=300_000); bench"
   ]
  },
  {
   "cell_type": "markdown",
   "id": "bad41d9f",
   "metadata": {},
   "source": [
    "## 2) Dataset Loading — `pandas` `.info()` and `.head()`"
   ]
  },
  {
   "cell_type": "code",
   "execution_count": 3,
   "id": "093e960c",
   "metadata": {},
   "outputs": [
    {
     "name": "stdout",
     "output_type": "stream",
     "text": [
      "WARNING: data/starter_data.csv not found. Using the bundled sample.\n",
      "<class 'pandas.core.frame.DataFrame'>\n",
      "RangeIndex: 40 entries, 0 to 39\n",
      "Data columns (total 3 columns):\n",
      " #   Column    Non-Null Count  Dtype  \n",
      "---  ------    --------------  -----  \n",
      " 0   category  40 non-null     object \n",
      " 1   value     40 non-null     float64\n",
      " 2   other     40 non-null     int64  \n",
      "dtypes: float64(1), int64(1), object(1)\n",
      "memory usage: 1.1+ KB\n"
     ]
    },
    {
     "data": {
      "text/plain": [
       "None"
      ]
     },
     "metadata": {},
     "output_type": "display_data"
    },
    {
     "data": {
      "text/html": [
       "<div>\n",
       "<style scoped>\n",
       "    .dataframe tbody tr th:only-of-type {\n",
       "        vertical-align: middle;\n",
       "    }\n",
       "\n",
       "    .dataframe tbody tr th {\n",
       "        vertical-align: top;\n",
       "    }\n",
       "\n",
       "    .dataframe thead th {\n",
       "        text-align: right;\n",
       "    }\n",
       "</style>\n",
       "<table border=\"1\" class=\"dataframe\">\n",
       "  <thead>\n",
       "    <tr style=\"text-align: right;\">\n",
       "      <th></th>\n",
       "      <th>category</th>\n",
       "      <th>value</th>\n",
       "      <th>other</th>\n",
       "    </tr>\n",
       "  </thead>\n",
       "  <tbody>\n",
       "    <tr>\n",
       "      <th>0</th>\n",
       "      <td>B</td>\n",
       "      <td>0.807</td>\n",
       "      <td>51</td>\n",
       "    </tr>\n",
       "    <tr>\n",
       "      <th>1</th>\n",
       "      <td>C</td>\n",
       "      <td>0.311</td>\n",
       "      <td>53</td>\n",
       "    </tr>\n",
       "    <tr>\n",
       "      <th>2</th>\n",
       "      <td>A</td>\n",
       "      <td>0.419</td>\n",
       "      <td>98</td>\n",
       "    </tr>\n",
       "    <tr>\n",
       "      <th>3</th>\n",
       "      <td>B</td>\n",
       "      <td>0.781</td>\n",
       "      <td>56</td>\n",
       "    </tr>\n",
       "    <tr>\n",
       "      <th>4</th>\n",
       "      <td>C</td>\n",
       "      <td>0.102</td>\n",
       "      <td>43</td>\n",
       "    </tr>\n",
       "  </tbody>\n",
       "</table>\n",
       "</div>"
      ],
      "text/plain": [
       "  category  value  other\n",
       "0        B  0.807     51\n",
       "1        C  0.311     53\n",
       "2        A  0.419     98\n",
       "3        B  0.781     56\n",
       "4        C  0.102     43"
      ]
     },
     "execution_count": 3,
     "metadata": {},
     "output_type": "execute_result"
    }
   ],
   "source": [
    "\n",
    "if not DATA_PATH.exists():\n",
    "    print(\"WARNING: data/starter_data.csv not found. Using the bundled sample.\")\n",
    "    DATA_PATH = PROJECT_ROOT / \"data\" / \"starter_data_SAMPLE.csv\"\n",
    "\n",
    "df = pd.read_csv(DATA_PATH)\n",
    "display(df.info())\n",
    "df.head()\n"
   ]
  },
  {
   "cell_type": "markdown",
   "id": "5c615667",
   "metadata": {},
   "source": [
    "## 3) Summary Statistics — numeric `.describe()`"
   ]
  },
  {
   "cell_type": "code",
   "execution_count": 4,
   "id": "03f7442f",
   "metadata": {},
   "outputs": [
    {
     "data": {
      "text/html": [
       "<div>\n",
       "<style scoped>\n",
       "    .dataframe tbody tr th:only-of-type {\n",
       "        vertical-align: middle;\n",
       "    }\n",
       "\n",
       "    .dataframe tbody tr th {\n",
       "        vertical-align: top;\n",
       "    }\n",
       "\n",
       "    .dataframe thead th {\n",
       "        text-align: right;\n",
       "    }\n",
       "</style>\n",
       "<table border=\"1\" class=\"dataframe\">\n",
       "  <thead>\n",
       "    <tr style=\"text-align: right;\">\n",
       "      <th></th>\n",
       "      <th>column</th>\n",
       "      <th>count</th>\n",
       "      <th>mean</th>\n",
       "      <th>std</th>\n",
       "      <th>min</th>\n",
       "      <th>25%</th>\n",
       "      <th>50%</th>\n",
       "      <th>75%</th>\n",
       "      <th>max</th>\n",
       "    </tr>\n",
       "  </thead>\n",
       "  <tbody>\n",
       "    <tr>\n",
       "      <th>0</th>\n",
       "      <td>value</td>\n",
       "      <td>40.0</td>\n",
       "      <td>0.147425</td>\n",
       "      <td>0.990242</td>\n",
       "      <td>-2.649</td>\n",
       "      <td>-0.4755</td>\n",
       "      <td>0.2915</td>\n",
       "      <td>0.8715</td>\n",
       "      <td>1.948</td>\n",
       "    </tr>\n",
       "    <tr>\n",
       "      <th>1</th>\n",
       "      <td>other</td>\n",
       "      <td>40.0</td>\n",
       "      <td>47.450000</td>\n",
       "      <td>30.305242</td>\n",
       "      <td>2.000</td>\n",
       "      <td>21.0000</td>\n",
       "      <td>47.0000</td>\n",
       "      <td>72.0000</td>\n",
       "      <td>98.000</td>\n",
       "    </tr>\n",
       "  </tbody>\n",
       "</table>\n",
       "</div>"
      ],
      "text/plain": [
       "  column  count       mean        std    min      25%      50%      75%  \\\n",
       "0  value   40.0   0.147425   0.990242 -2.649  -0.4755   0.2915   0.8715   \n",
       "1  other   40.0  47.450000  30.305242  2.000  21.0000  47.0000  72.0000   \n",
       "\n",
       "      max  \n",
       "0   1.948  \n",
       "1  98.000  "
      ]
     },
     "execution_count": 4,
     "metadata": {},
     "output_type": "execute_result"
    }
   ],
   "source": [
    "summary = get_summary_stats(df); summary.head(10)"
   ]
  },
  {
   "cell_type": "markdown",
   "id": "8d3c2281",
   "metadata": {},
   "source": [
    "## 4) Groupby aggregation — pick a categorical column or auto-create one"
   ]
  },
  {
   "cell_type": "code",
   "execution_count": 5,
   "id": "97c3d22b",
   "metadata": {},
   "outputs": [
    {
     "data": {
      "text/html": [
       "<div>\n",
       "<style scoped>\n",
       "    .dataframe tbody tr th:only-of-type {\n",
       "        vertical-align: middle;\n",
       "    }\n",
       "\n",
       "    .dataframe tbody tr th {\n",
       "        vertical-align: top;\n",
       "    }\n",
       "\n",
       "    .dataframe thead th {\n",
       "        text-align: right;\n",
       "    }\n",
       "</style>\n",
       "<table border=\"1\" class=\"dataframe\">\n",
       "  <thead>\n",
       "    <tr style=\"text-align: right;\">\n",
       "      <th></th>\n",
       "      <th>category</th>\n",
       "      <th>value</th>\n",
       "      <th>other</th>\n",
       "    </tr>\n",
       "  </thead>\n",
       "  <tbody>\n",
       "    <tr>\n",
       "      <th>0</th>\n",
       "      <td>A</td>\n",
       "      <td>-0.019786</td>\n",
       "      <td>60.000000</td>\n",
       "    </tr>\n",
       "    <tr>\n",
       "      <th>1</th>\n",
       "      <td>B</td>\n",
       "      <td>0.296778</td>\n",
       "      <td>60.000000</td>\n",
       "    </tr>\n",
       "    <tr>\n",
       "      <th>2</th>\n",
       "      <td>C</td>\n",
       "      <td>0.206059</td>\n",
       "      <td>30.470588</td>\n",
       "    </tr>\n",
       "  </tbody>\n",
       "</table>\n",
       "</div>"
      ],
      "text/plain": [
       "  category     value      other\n",
       "0        A -0.019786  60.000000\n",
       "1        B  0.296778  60.000000\n",
       "2        C  0.206059  30.470588"
      ]
     },
     "execution_count": 5,
     "metadata": {},
     "output_type": "execute_result"
    }
   ],
   "source": [
    "grouped = groupby_aggregate(df); grouped.head(10)"
   ]
  },
  {
   "cell_type": "markdown",
   "id": "b28a2aee",
   "metadata": {},
   "source": [
    "## 5) Save outputs — CSV and JSON"
   ]
  },
  {
   "cell_type": "code",
   "execution_count": 6,
   "id": "0ce6ed0b",
   "metadata": {},
   "outputs": [
    {
     "name": "stdout",
     "output_type": "stream",
     "text": [
      "Saved: /Users/aogunlowo19/Downloads/stage03_python_fundamentals/data/processed/summary.csv\n",
      "Saved: /Users/aogunlowo19/Downloads/stage03_python_fundamentals/data/processed/summary.json\n"
     ]
    }
   ],
   "source": [
    "\n",
    "out_csv = PROCESSED_DIR / \"summary.csv\"\n",
    "summary.to_csv(out_csv, index=False)\n",
    "print(f\"Saved: {out_csv}\")\n",
    "out_json = PROCESSED_DIR / \"summary.json\"\n",
    "summary.to_json(out_json, orient=\"records\", indent=2)\n",
    "print(f\"Saved: {out_json}\")\n"
   ]
  },
  {
   "cell_type": "markdown",
   "id": "79a954aa",
   "metadata": {},
   "source": [
    "## Bonus) Basic plot — histogram of first numeric column"
   ]
  },
  {
   "cell_type": "code",
   "execution_count": 7,
   "id": "05cf40e0",
   "metadata": {},
   "outputs": [
    {
     "name": "stdout",
     "output_type": "stream",
     "text": [
      "Saved plot: /Users/aogunlowo19/Downloads/stage03_python_fundamentals/figs/basic_hist.png\n"
     ]
    }
   ],
   "source": [
    "\n",
    "num_cols = df.select_dtypes(include=\"number\").columns.tolist()\n",
    "if num_cols:\n",
    "    hist_path = FIGS_DIR / \"basic_hist.png\"\n",
    "    saved = basic_histogram(df[num_cols[0]], title=f\"Histogram of {num_cols[0]}\", save_path=hist_path)\n",
    "    print(f\"Saved plot: {saved}\")\n",
    "else:\n",
    "    print(\"No numeric columns found for plotting.\")\n"
   ]
  },
  {
   "cell_type": "markdown",
   "id": "f24c73cc-2cb4-4b48-a423-918712c0e407",
   "metadata": {},
   "source": [
    "## 6) Reusable functions"
   ]
  },
  {
   "cell_type": "code",
   "execution_count": 8,
   "id": "00ffbc08-23f6-4213-947c-1012aaff6f03",
   "metadata": {},
   "outputs": [],
   "source": [
    "from __future__ import annotations\n",
    "import time\n",
    "from pathlib import Path\n",
    "from typing import Dict, Iterable, Optional, Tuple\n",
    "\n",
    "import numpy as np\n",
    "import pandas as pd\n",
    "import matplotlib.pyplot as plt\n",
    "\n",
    "\n",
    "# ---------------------------\n",
    "# 1) Performance benchmark\n",
    "# ---------------------------\n",
    "def time_loop_vs_vectorized(n: int = 300_000) -> pd.DataFrame:\n",
    "    \"\"\"\n",
    "    Compare Python loop vs NumPy vectorized operations on squaring n integers.\n",
    "    Returns a small DataFrame with elapsed times and speedup.\n",
    "    \"\"\"\n",
    "    arr = np.arange(n)\n",
    "\n",
    "    t0 = time.perf_counter()\n",
    "    out_loop = [x * x for x in arr]\n",
    "    t1 = time.perf_counter()\n",
    "\n",
    "    t2 = time.perf_counter()\n",
    "    out_vec = arr * arr\n",
    "    t3 = time.perf_counter()\n",
    "\n",
    "    loop_s = t1 - t0\n",
    "    vec_s = t3 - t2\n",
    "    speedup = loop_s / vec_s if vec_s > 0 else np.nan\n",
    "\n",
    "    return pd.DataFrame(\n",
    "        {\n",
    "            \"method\": [\"loop\", \"vectorized\", \"speedup(loop/vec)\"],\n",
    "            \"seconds\": [loop_s, vec_s, speedup],\n",
    "            \"n\": [n, n, n],\n",
    "        }\n",
    "    )\n",
    "\n",
    "\n",
    "# ---------------------------\n",
    "# 2) Summary statistics\n",
    "# ---------------------------\n",
    "def get_summary_stats(\n",
    "    df: pd.DataFrame,\n",
    "    decimals: int = 3,\n",
    ") -> pd.DataFrame:\n",
    "    \"\"\"\n",
    "    Clean, formatted summary stats for all numeric columns.\n",
    "    - Ignores NaNs in computations (pandas default).\n",
    "    - Returns tidy table with one row per numeric column.\n",
    "    \"\"\"\n",
    "    if df.empty:\n",
    "        return pd.DataFrame()\n",
    "\n",
    "    # Numeric-only describe, transposed for readability\n",
    "    stats = df.describe(include=[np.number]).T  # index = numeric columns\n",
    "\n",
    "    # Add missingness info that graders like to see\n",
    "    n = len(df)\n",
    "    stats[\"missing\"] = n - stats[\"count\"]\n",
    "\n",
    "    # Round for presentation\n",
    "    stats = stats.round(decimals)\n",
    "\n",
    "    # Consistent column order when available\n",
    "    cols = [\n",
    "        c\n",
    "        for c in [\"count\", \"mean\", \"std\", \"min\", \"25%\", \"50%\", \"75%\", \"max\", \"missing\"]\n",
    "        if c in stats.columns\n",
    "    ]\n",
    "    return stats[cols]"
   ]
  }
 ],
 "metadata": {
  "kernelspec": {
   "display_name": "Python 3 (ipykernel)",
   "language": "python",
   "name": "python3"
  },
  "language_info": {
   "codemirror_mode": {
    "name": "ipython",
    "version": 3
   },
   "file_extension": ".py",
   "mimetype": "text/x-python",
   "name": "python",
   "nbconvert_exporter": "python",
   "pygments_lexer": "ipython3",
   "version": "3.11.9"
  }
 },
 "nbformat": 4,
 "nbformat_minor": 5
}
